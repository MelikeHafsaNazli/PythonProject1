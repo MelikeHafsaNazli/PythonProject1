{
  "metadata": {
    "language_info": {
      "codemirror_mode": {
        "name": "python",
        "version": 3
      },
      "file_extension": ".py",
      "mimetype": "text/x-python",
      "name": "python",
      "nbconvert_exporter": "python",
      "pygments_lexer": "ipython3",
      "version": "3.8"
    },
    "kernelspec": {
      "name": "python",
      "display_name": "Python (Pyodide)",
      "language": "python"
    }
  },
  "nbformat_minor": 4,
  "nbformat": 4,
  "cells": [
    {
      "cell_type": "code",
      "source": "l = [[1,'a',['cat'],2],[[[3]],'dog'],4,5]\ntempList= []\n\ndef flatten(l):\n    for i in l:\n        if isinstance(i, list):\n            flatten(l)\n        else: tempList.append(l)\n        \nflatten(l)\nprint(tempList)",
      "metadata": {
        "trusted": true
      },
      "execution_count": null,
      "outputs": []
    },
    {
      "cell_type": "code",
      "source": "l2 = [[1, 2], [3, 4], [5, 6, 7]]\ntempList = []\n\ndef reverse(l):\n    l = l[:: -1]\n    for i in l:\n        if isinstance(i,list):\n            t = i[::-1]\n            tempList.append[t]\n        else: tempList.append(i)\n    return tempList\n\nprint(reverse(l2))",
      "metadata": {},
      "execution_count": null,
      "outputs": []
    }
  ]
}